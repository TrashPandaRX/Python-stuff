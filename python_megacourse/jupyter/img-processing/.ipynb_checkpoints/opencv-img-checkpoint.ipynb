{
 "cells": [
  {
   "cell_type": "code",
   "execution_count": 15,
   "id": "c1b33f4e",
   "metadata": {},
   "outputs": [],
   "source": [
    "import cv2\n",
    "import numpy as np"
   ]
  },
  {
   "cell_type": "code",
   "execution_count": 4,
   "id": "994f30d9",
   "metadata": {},
   "outputs": [
    {
     "name": "stdout",
     "output_type": "stream",
     "text": [
      "total 32\r\n",
      "drwxr-xr-x  6 epicgilco  admin   192 Jun  3 14:25 \u001b[34m.\u001b[m\u001b[m/\r\n",
      "-rw-r--r--  1 epicgilco  admin  1120 Jun  3 14:25 Untitled.ipynb\r\n",
      "drwxr-xr-x  3 epicgilco  admin    96 Jun  3 14:21 \u001b[34m.ipynb_checkpoints\u001b[m\u001b[m/\r\n",
      "-rw-r--r--  1 epicgilco  admin  5501 Jun  3 14:18 Numpy_and_img-processing.ipynb\r\n",
      "drwxr-xr-x  5 epicgilco  admin   160 Jun  3 14:18 \u001b[34m..\u001b[m\u001b[m/\r\n",
      "-rw-r--r--@ 1 epicgilco  admin   189 Jun  3 14:16 smallgray.png\r\n"
     ]
    }
   ],
   "source": [
    "ls -alt"
   ]
  },
  {
   "cell_type": "code",
   "execution_count": 7,
   "id": "eabd9f58",
   "metadata": {},
   "outputs": [
    {
     "data": {
      "text/plain": [
       "array([[187, 158, 104, 121, 143],\n",
       "       [198, 125, 255, 255, 147],\n",
       "       [209, 134, 255,  97, 182]], dtype=uint8)"
      ]
     },
     "execution_count": 7,
     "metadata": {},
     "output_type": "execute_result"
    }
   ],
   "source": [
    "im_g = cv2.imread(\"smallgray.png\", 0) # also need to pass in 0 or 1. 0 = greyscale, 1 = BGR (blue green red)\n",
    "im_g"
   ]
  },
  {
   "cell_type": "code",
   "execution_count": 13,
   "id": "1ac2d6d5",
   "metadata": {},
   "outputs": [
    {
     "data": {
      "image/png": "[encoded data removed]",
      "text/plain": [
       "<IPython.core.display.Image object>"
      ]
     },
     "execution_count": 13,
     "metadata": {},
     "output_type": "execute_result"
    }
   ],
   "source": [
    "from IPython import display\n",
    "display.Image(\"./smallgray.png\")\n",
    "# works"
   ]
  },
  {
   "cell_type": "code",
   "execution_count": 17,
   "id": "c97eec00",
   "metadata": {},
   "outputs": [
    {
     "data": {
      "text/plain": [
       "array([[187, 158, 104, 121, 143],\n",
       "       [198, 125,   1,   1, 147],\n",
       "       [209, 134,   1,  97, 182]], dtype=uint8)"
      ]
     },
     "execution_count": 17,
     "metadata": {},
     "output_type": "execute_result"
    }
   ],
   "source": [
    "im_g2 = im_g\n",
    "im_g2 = np.where(im_g2==255, 1, im_g2)\n",
    "im_g2"
   ]
  },
  {
   "cell_type": "code",
   "execution_count": null,
   "id": "6f5d0679",
   "metadata": {},
   "outputs": [],
   "source": []
  },
  {
   "cell_type": "code",
   "execution_count": null,
   "id": "a4b77590",
   "metadata": {},
   "outputs": [],
   "source": []
  }
 ],
 "metadata": {
  "kernelspec": {
   "display_name": "Python 3 (ipykernel)",
   "language": "python",
   "name": "python3"
  },
  "language_info": {
   "codemirror_mode": {
    "name": "ipython",
    "version": 3
   },
   "file_extension": ".py",
   "mimetype": "text/x-python",
   "name": "python",
   "nbconvert_exporter": "python",
   "pygments_lexer": "ipython3",
   "version": "3.10.4"
  }
 },
 "nbformat": 4,
 "nbformat_minor": 5
}
