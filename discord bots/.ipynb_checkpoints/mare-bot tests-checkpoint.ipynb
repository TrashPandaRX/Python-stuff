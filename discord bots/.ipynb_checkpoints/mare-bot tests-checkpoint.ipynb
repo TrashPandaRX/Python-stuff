{
 "cells": [
  {
   "cell_type": "code",
   "execution_count": 1,
   "id": "ad919de2",
   "metadata": {},
   "outputs": [],
   "source": [
    "import pandas as pd"
   ]
  },
  {
   "cell_type": "code",
   "execution_count": 2,
   "id": "3adc2529",
   "metadata": {},
   "outputs": [],
   "source": [
    "import os"
   ]
  },
  {
   "cell_type": "code",
   "execution_count": 3,
   "id": "f1cc4529",
   "metadata": {},
   "outputs": [],
   "source": [
    "a = os.getcwd()"
   ]
  },
  {
   "cell_type": "code",
   "execution_count": 4,
   "id": "0c4d1cd0",
   "metadata": {},
   "outputs": [],
   "source": [
    "b = \"user_profiles\"\n",
    "c = os.path.join(a,b)"
   ]
  },
  {
   "cell_type": "code",
   "execution_count": 6,
   "id": "4a9e0f6f",
   "metadata": {},
   "outputs": [],
   "source": [
    "df = pd.read_csv(f\"{c}/user-data.csv\", index_col = [0])"
   ]
  },
  {
   "cell_type": "code",
   "execution_count": 7,
   "id": "2eb33a41",
   "metadata": {},
   "outputs": [
    {
     "name": "stdout",
     "output_type": "stream",
     "text": [
      "    profile_name profile_type  age_range  gender  pronouns  about_me\n",
      "0  gilcraos#2111       normal        NaN     NaN       NaN       NaN\n",
      "1   Regulus#8269       dating        NaN     NaN       NaN       NaN\n",
      "2   Regulus#8269       normal        NaN     NaN       NaN       NaN\n"
     ]
    }
   ],
   "source": [
    "print(df)"
   ]
  },
  {
   "cell_type": "code",
   "execution_count": 8,
   "id": "31c4b56e",
   "metadata": {},
   "outputs": [
    {
     "name": "stdout",
     "output_type": "stream",
     "text": [
      "0    normal\n",
      "1    dating\n",
      "2    normal\n",
      "Name: profile_type, dtype: object\n"
     ]
    }
   ],
   "source": [
    "print(df[\"profile_type\"])"
   ]
  },
  {
   "cell_type": "code",
   "execution_count": 9,
   "id": "ca83873e",
   "metadata": {},
   "outputs": [
    {
     "data": {
      "text/plain": [
       "Int64Index([0, 1, 2], dtype='int64')"
      ]
     },
     "execution_count": 9,
     "metadata": {},
     "output_type": "execute_result"
    }
   ],
   "source": [
    "df.index"
   ]
  },
  {
   "cell_type": "code",
   "execution_count": null,
   "id": "c7d11d85",
   "metadata": {},
   "outputs": [],
   "source": []
  }
 ],
 "metadata": {
  "kernelspec": {
   "display_name": "Python 3 (ipykernel)",
   "language": "python",
   "name": "python3"
  },
  "language_info": {
   "codemirror_mode": {
    "name": "ipython",
    "version": 3
   },
   "file_extension": ".py",
   "mimetype": "text/x-python",
   "name": "python",
   "nbconvert_exporter": "python",
   "pygments_lexer": "ipython3",
   "version": "3.10.4"
  }
 },
 "nbformat": 4,
 "nbformat_minor": 5
}
